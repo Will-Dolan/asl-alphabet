{
  "nbformat": 4,
  "nbformat_minor": 0,
  "metadata": {
    "colab": {
      "provenance": []
    },
    "kernelspec": {
      "name": "python3",
      "display_name": "Python 3"
    },
    "language_info": {
      "name": "python"
    },
    "accelerator": "GPU",
    "gpuClass": "standard"
  },
  "cells": [
    {
      "cell_type": "code",
      "execution_count": 4,
      "metadata": {
        "id": "sx4KGEcEfDB7"
      },
      "outputs": [],
      "source": [
        "# Some code segments taken from L4 notebook with updates\n",
        "\n",
        "# Import necessary libraries\n",
        "\n",
        "from __future__ import print_function, division\n",
        "\n",
        "import torch\n",
        "import torch.nn as nn\n",
        "import torch.optim as optim\n",
        "from torch.optim import lr_scheduler\n",
        "import torch.backends.cudnn as cudnn\n",
        "import numpy as np\n",
        "import torchvision\n",
        "from torchvision import datasets, models, transforms\n",
        "import matplotlib.pyplot as plt\n",
        "import time\n",
        "import os\n",
        "import copy\n",
        "\n",
        "cudnn.benchmark = True\n",
        "plt.ion()   "
      ]
    },
    {
      "cell_type": "code",
      "source": [
        "#mount google drive\n",
        "from google.colab import drive\n",
        "drive.mount('/content/drive/')\n"
      ],
      "metadata": {
        "colab": {
          "base_uri": "https://localhost:8080/",
          "height": 0
        },
        "id": "hRqGkYnyiT50",
        "outputId": "54052d07-5976-4d26-98ae-f4da2f3f9e4a"
      },
      "execution_count": 5,
      "outputs": [
        {
          "output_type": "stream",
          "name": "stdout",
          "text": [
            "Drive already mounted at /content/drive/; to attempt to forcibly remount, call drive.mount(\"/content/drive/\", force_remount=True).\n"
          ]
        }
      ]
    },
    {
      "cell_type": "code",
      "source": [
        "#switch to gpu if available\n",
        "device = torch.device(\"cuda:0\" if torch.cuda.is_available() else \"cpu\")\n",
        "print(device)"
      ],
      "metadata": {
        "colab": {
          "base_uri": "https://localhost:8080/",
          "height": 0
        },
        "id": "3GZAPFo8BHaz",
        "outputId": "10290000-09b3-4b45-f728-d2495bf8077c"
      },
      "execution_count": 6,
      "outputs": [
        {
          "output_type": "stream",
          "name": "stdout",
          "text": [
            "cuda:0\n"
          ]
        }
      ]
    },
    {
      "cell_type": "code",
      "source": [
        "#remove data drive if fresh install needed\n",
        "%rm -rf /content/drive/MyDrive/Clubs/CAIS++/ASL/data"
      ],
      "metadata": {
        "id": "FmCJZYybNNoB"
      },
      "execution_count": 5,
      "outputs": []
    },
    {
      "cell_type": "code",
      "source": [
        "#set kaggle environment variable and download the dataset\n",
        "os.environ['KAGGLE_CONFIG_DIR'] = '/content/drive/MyDrive/Clubs/CAIS++/ASL'\n",
        "!kaggle datasets download -d grassknoted/asl-alphabet"
      ],
      "metadata": {
        "colab": {
          "base_uri": "https://localhost:8080/",
          "height": 0
        },
        "id": "y3S5kni_fvxv",
        "outputId": "090ad3d9-4ce5-4e02-cd46-110175bce402"
      },
      "execution_count": 6,
      "outputs": [
        {
          "output_type": "stream",
          "name": "stdout",
          "text": [
            "Downloading asl-alphabet.zip to /content\n",
            "100% 1.02G/1.03G [01:08<00:00, 16.9MB/s]\n",
            "100% 1.03G/1.03G [01:08<00:00, 16.0MB/s]\n"
          ]
        }
      ]
    },
    {
      "cell_type": "code",
      "source": [
        "#unzip to data/ directory\n",
        "import zipfile\n",
        "os.chdir('/content/drive/MyDrive/Clubs/CAIS++/ASL')\n",
        "zip_ref = zipfile.ZipFile('/content/drive/MyDrive/Clubs/CAIS++/ASL/asl-alphabet.zip', 'r')\n",
        "zip_ref.extractall(path='/content/drive/MyDrive/Clubs/CAIS++/ASL/data')\n",
        "zip_ref.close()"
      ],
      "metadata": {
        "id": "5M9DEQxQfRjj"
      },
      "execution_count": 7,
      "outputs": []
    },
    {
      "cell_type": "code",
      "source": [
        "#make sure data imported correctly (sometimes would not import correctly)\n",
        "%cd /content/drive/MyDrive/Clubs/CAIS++/ASL/data/asl_alphabet_train/asl_alphabet_train/space\n",
        "%ls"
      ],
      "metadata": {
        "id": "BDxMXLodAo2g"
      },
      "execution_count": null,
      "outputs": []
    },
    {
      "cell_type": "code",
      "source": [
        "#move more images over to testing \n",
        "import shutil, random\n",
        "\n",
        "data_dir='/content/drive/MyDrive/Clubs/CAIS++/ASL/data/'\n",
        "for char in os.listdir(data_dir+'asl_alphabet_train/asl_alphabet_train'):\n",
        "  for img in os.listdir(data_dir+'asl_alphabet_train/asl_alphabet_train/'+char):\n",
        "    r = random.randint(1,10)\n",
        "    if(r==1):\n",
        "      shutil.move(data_dir+'asl_alphabet_train/asl_alphabet_train/'+char+'/'+img,data_dir+'asl_alphabet_test/asl_alphabet_test/'+char+'_'+img )"
      ],
      "metadata": {
        "id": "Qi1uWIwwDjcZ"
      },
      "execution_count": 83,
      "outputs": []
    },
    {
      "cell_type": "code",
      "source": [
        "%cd /content/drive/MyDrive/Clubs/CAIS++/ASL/data/asl_alphabet_test/asl_alphabet_test\n",
        "%ls"
      ],
      "metadata": {
        "id": "4Z-oFeohEwwS"
      },
      "execution_count": null,
      "outputs": []
    },
    {
      "cell_type": "code",
      "source": [
        "# image transformations\n",
        "\n",
        "#transforms structure taken from L4 and then modified\n",
        "#removed resize transforms, resizing to a larger size would just slow the training\n",
        "data_transforms = {\n",
        "    'train': transforms.Compose([\n",
        "        transforms.RandomHorizontalFlip(),\n",
        "        transforms.ToTensor(),\n",
        "        transforms.Normalize(mean=[0.485, 0.456, 0.406], std=[0.229, 0.224, 0.225])\n",
        "    ]),\n",
        "    'val': transforms.Compose([\n",
        "        transforms.ToTensor(),\n",
        "        transforms.Normalize(mean=[0.485, 0.456, 0.406], std=[0.229, 0.224, 0.225])\n",
        "    ]),\n",
        "}\n",
        "\n",
        "#load in datasets to train and val\n",
        "data_dir = '/content/drive/MyDrive/Clubs/CAIS++/ASL/data/'\n",
        "train_set = datasets.ImageFolder(data_dir+'asl_alphabet_train/asl_alphabet_train', transform=data_transforms['train'])\n",
        "val_set = datasets.ImageFolder(data_dir+'asl_alphabet_train/asl_alphabet_train', transform=data_transforms['val'])\n",
        "\n",
        "#change if you want a fraction of the dataset instead of whole\n",
        "frac=1\n",
        "\n",
        "#partition data between train and val\n",
        "train_size=int(len(train_set)/frac)\n",
        "perm = torch.randperm(train_size)\n",
        "val_percent = 0.15\n",
        "idx = int(train_size * (1-val_percent))\n",
        "\n",
        "#make each set a subset of its original based on split \n",
        "train_set = torch.utils.data.Subset(train_set, perm[:idx])\n",
        "val_set = torch.utils.data.Subset(val_set, perm[idx:])\n",
        "\n",
        "image_datasets = {'train': train_set,\n",
        "                  'val': val_set}\n",
        "\n",
        "#dataloaders taken from L4\n",
        "dataloaders = {x: torch.utils.data.DataLoader(image_datasets[x], batch_size=64,\n",
        "                                             shuffle=True, num_workers=3) #changed num workers so as to not freeze (sometimes happens >=4 workers)\n",
        "              for x in ['train', 'val']}\n",
        "dataset_sizes = {x: len(image_datasets[x]) for x in ['train', 'val']}\n",
        "\n",
        "#print all class names in the dataset\n",
        "class_names = image_datasets['train'].dataset.classes\n",
        "print(class_names)"
      ],
      "metadata": {
        "colab": {
          "base_uri": "https://localhost:8080/",
          "height": 0
        },
        "id": "ffTRllSmd_QQ",
        "outputId": "68e6e204-edbf-4319-f69a-54570514674c"
      },
      "execution_count": 8,
      "outputs": [
        {
          "output_type": "stream",
          "name": "stdout",
          "text": [
            "['A', 'B', 'C', 'D', 'E', 'F', 'G', 'H', 'I', 'J', 'K', 'L', 'M', 'N', 'O', 'P', 'Q', 'R', 'S', 'T', 'U', 'V', 'W', 'X', 'Y', 'Z', 'del', 'nothing', 'space']\n"
          ]
        },
        {
          "output_type": "stream",
          "name": "stderr",
          "text": [
            "/usr/local/lib/python3.8/dist-packages/torch/utils/data/dataloader.py:554: UserWarning: This DataLoader will create 3 worker processes in total. Our suggested max number of worker in current system is 2, which is smaller than what this DataLoader is going to create. Please be aware that excessive worker creation might get DataLoader running slow or even freeze, lower the worker number to avoid potential slowness/freeze if necessary.\n",
            "  warnings.warn(_create_warning_msg(\n"
          ]
        }
      ]
    },
    {
      "cell_type": "code",
      "source": [
        "#set requires_grad to false if we are feature extracting, ie just updating the last layer\n",
        "def set_parameter_requires_grad(model, feature_extracting):\n",
        "    if feature_extracting:\n",
        "        for param in model.parameters():\n",
        "            param.requires_grad = False"
      ],
      "metadata": {
        "id": "lR-iDVnAHFCc"
      },
      "execution_count": 9,
      "outputs": []
    },
    {
      "cell_type": "code",
      "source": [
        "#import model with default weights\n",
        "resnet = torch.hub.load('pytorch/vision:v0.10.0', 'resnet50', weights='ResNet50_Weights.DEFAULT')\n",
        "\n",
        "#set to false if fine tuning the whole model \n",
        "#set to true if only the last layer parameters are updated\n",
        "feature_extract=True\n",
        "set_parameter_requires_grad(resnet, feature_extract)\n",
        "\n",
        "#make fully connected layer\n",
        "resnet.fc = nn.Linear(resnet.fc.in_features, len(class_names)) \n",
        "\n",
        "# save model to device\n",
        "resnet = resnet.to(device)\n",
        "\n",
        "#cross entropy loss for image classification\n",
        "criterion = torch.nn.CrossEntropyLoss() \n",
        "\n",
        "params = []\n",
        "for name, param in resnet.named_parameters():\n",
        "    if param.requires_grad == True:\n",
        "        params.append(param)\n",
        "\n",
        "optimizer_ft = torch.optim.Adam(params, lr=0.001) \n",
        "\n",
        "# decay your learning rate across epochs-- this helps our model converge better and prevents overshooting a local minima\n",
        "exp_lr_scheduler = lr_scheduler.StepLR(optimizer_ft, step_size=7, gamma=0.1)"
      ],
      "metadata": {
        "id": "Sm4GXZ2gpzR8",
        "colab": {
          "base_uri": "https://localhost:8080/",
          "height": 0
        },
        "outputId": "2bde4c44-ee39-463a-eeb7-80c2cc7c75d7"
      },
      "execution_count": 10,
      "outputs": [
        {
          "output_type": "stream",
          "name": "stderr",
          "text": [
            "Using cache found in /root/.cache/torch/hub/pytorch_vision_v0.10.0\n"
          ]
        }
      ]
    },
    {
      "cell_type": "code",
      "source": [
        "#training function\n",
        "import time \n",
        "\n",
        "def train_model(model, criterion, optimizer, scheduler, num_epochs=25):\n",
        "    since = time.time()\n",
        "\n",
        "    best_model_wts = copy.deepcopy(model.state_dict())\n",
        "    best_acc = 0.0\n",
        "\n",
        "    train_losses, val_losses = [], []\n",
        "\n",
        "    for epoch in range(num_epochs):\n",
        "        print(f'Epoch {epoch}/{num_epochs - 1}')\n",
        "        print('-' * 10)\n",
        "\n",
        "        # Each epoch has a training and validation phase\n",
        "        for phase in ['train', 'val']:\n",
        "            if phase == 'train':\n",
        "                model.train()  # Set model to training mode\n",
        "            else:\n",
        "                model.eval()   # Set model to evaluate mode\n",
        "\n",
        "            running_loss = 0.0\n",
        "            running_corrects = 0\n",
        "\n",
        "            # Iterate over data.\n",
        "            for inputs, labels in dataloaders[phase]:\n",
        "                inputs = inputs.to(device)\n",
        "                labels = labels.to(device)\n",
        "\n",
        "                # zero the parameter gradients\n",
        "                optimizer.zero_grad()\n",
        "\n",
        "                # forward\n",
        "                # track history if only in train\n",
        "                with torch.set_grad_enabled(phase == 'train'):\n",
        "                    outputs = model(inputs)\n",
        "                    _, preds = torch.max(outputs, 1)\n",
        "                    loss = criterion(outputs, labels) \n",
        "\n",
        "                    # backward + optimize only if in training phase\n",
        "                    if phase == 'train':\n",
        "                        loss.backward()\n",
        "                        optimizer.step()\n",
        "\n",
        "                # statistics\n",
        "                running_loss += loss.item() * inputs.size(0)\n",
        "                running_corrects += torch.sum(preds == labels.data)\n",
        "            if phase == 'train':\n",
        "                scheduler.step()\n",
        "\n",
        "            epoch_loss = running_loss / dataset_sizes[phase]\n",
        "\n",
        "            #add to loss list for visual graph\n",
        "            if(phase=='train'):\n",
        "              train_losses.append(epoch_loss)\n",
        "            else:\n",
        "              val_losses.append(epoch_loss)\n",
        "            epoch_acc = running_corrects.double() / dataset_sizes[phase]\n",
        "\n",
        "            print(f'{phase} Loss: {epoch_loss:.4f} Acc: {epoch_acc:.4f}')\n",
        "\n",
        "            # deep copy the model\n",
        "            if phase == 'val' and epoch_acc > best_acc:\n",
        "                best_acc = epoch_acc\n",
        "                best_model_wts = copy.deepcopy(model.state_dict())\n",
        "        print()\n",
        "\n",
        "    time_elapsed = time.time() - since\n",
        "    print(f'Training complete in {time_elapsed // 60:.0f}m {time_elapsed % 60:.0f}s')\n",
        "    print(f'Best val Acc: {best_acc:4f}')\n",
        "\n",
        "    # load best model weights\n",
        "    model.load_state_dict(best_model_wts)\n",
        "    return model, train_losses, val_losses"
      ],
      "metadata": {
        "id": "eDnZoOLpUd8u"
      },
      "execution_count": 11,
      "outputs": []
    },
    {
      "cell_type": "code",
      "source": [
        "num_epochs = 10\n",
        "\n",
        "# train the model\n",
        "model_ft, train_losses, val_losses = train_model(resnet, criterion, optimizer_ft, exp_lr_scheduler, num_epochs)"
      ],
      "metadata": {
        "colab": {
          "base_uri": "https://localhost:8080/",
          "height": 0
        },
        "id": "2OQCcNiTfw_H",
        "outputId": "69a7d6fe-7dad-4eab-8c12-30faa039baf0"
      },
      "execution_count": 12,
      "outputs": [
        {
          "output_type": "stream",
          "name": "stdout",
          "text": [
            "Epoch 0/9\n",
            "----------\n",
            "train Loss: 1.0134 Acc: 0.8272\n",
            "val Loss: 0.4300 Acc: 0.9268\n",
            "\n",
            "Epoch 1/9\n",
            "----------\n",
            "train Loss: 0.3207 Acc: 0.9472\n",
            "val Loss: 0.2460 Acc: 0.9532\n",
            "\n",
            "Epoch 2/9\n",
            "----------\n",
            "train Loss: 0.1993 Acc: 0.9667\n",
            "val Loss: 0.1732 Acc: 0.9658\n",
            "\n",
            "Epoch 3/9\n",
            "----------\n",
            "train Loss: 0.1422 Acc: 0.9768\n",
            "val Loss: 0.1386 Acc: 0.9701\n",
            "\n",
            "Epoch 4/9\n",
            "----------\n",
            "train Loss: 0.1090 Acc: 0.9818\n",
            "val Loss: 0.1160 Acc: 0.9743\n",
            "\n",
            "Epoch 5/9\n",
            "----------\n",
            "train Loss: 0.0870 Acc: 0.9859\n",
            "val Loss: 0.1011 Acc: 0.9754\n",
            "\n",
            "Epoch 6/9\n",
            "----------\n",
            "train Loss: 0.0722 Acc: 0.9886\n",
            "val Loss: 0.0883 Acc: 0.9786\n",
            "\n",
            "Epoch 7/9\n",
            "----------\n",
            "train Loss: 0.0588 Acc: 0.9923\n",
            "val Loss: 0.0848 Acc: 0.9794\n",
            "\n",
            "Epoch 8/9\n",
            "----------\n",
            "train Loss: 0.0572 Acc: 0.9928\n",
            "val Loss: 0.0858 Acc: 0.9793\n",
            "\n",
            "Epoch 9/9\n",
            "----------\n",
            "train Loss: 0.0561 Acc: 0.9929\n",
            "val Loss: 0.0834 Acc: 0.9801\n",
            "\n",
            "Training complete in 42m 12s\n",
            "Best val Acc: 0.980056\n"
          ]
        }
      ]
    },
    {
      "cell_type": "code",
      "source": [
        "plt.plot(train_losses, label='Training loss')\n",
        "plt.plot(val_losses, label='Validation loss')\n",
        "plt.legend(frameon=False)\n",
        "plt.show()"
      ],
      "metadata": {
        "colab": {
          "base_uri": "https://localhost:8080/",
          "height": 265
        },
        "id": "ws166kYkdvi6",
        "outputId": "9cdc52a3-9c46-40cd-912b-72c2af9e8ef5"
      },
      "execution_count": 13,
      "outputs": [
        {
          "output_type": "display_data",
          "data": {
            "text/plain": [
              "<Figure size 432x288 with 1 Axes>"
            ],
            "image/png": "[encoded data removed]"
          },
          "metadata": {
            "needs_background": "light"
          }
        }
      ]
    },
    {
      "cell_type": "code",
      "source": [
        "from matplotlib.pyplot import imshow\n",
        "\n",
        "#define function to show images from training, the model's prediction and the GT (taken from L4 and changed a bit)\n",
        "def visualize_model(model, num_images=6):\n",
        "    was_training = model.training\n",
        "    model.eval()\n",
        "    images_so_far = 0\n",
        "    fig = plt.figure()\n",
        "    alph='ABCDEFGHIJKLMNOPQRSTUVWXYZ< _' #using ' ' to represent nothing and using '_' to represent space\n",
        "    with torch.no_grad():\n",
        "        for i, (inputs, labels) in enumerate(dataloaders['val']):\n",
        "            inputs = inputs.to(device)\n",
        "            labels = labels.to(device)\n",
        "\n",
        "            outputs = model(inputs)\n",
        "            _, preds = torch.max(outputs, 1)\n",
        "\n",
        "            for j in range(inputs.size()[0]):\n",
        "                images_so_far += 1\n",
        "                ax = plt.subplot(num_images//2, 2, images_so_far)\n",
        "                ax.axis('off')\n",
        "                ax.set_title(f'predicted: {class_names[preds[j]]} Ground truth {alph[int(labels[j])]}')\n",
        "                imshow(inputs.cpu().data[j].permute(1, 2, 0))\n",
        "\n",
        "                if images_so_far == num_images:\n",
        "                    model.train(mode=was_training)\n",
        "                    return\n",
        "        model.train(mode=was_training)"
      ],
      "metadata": {
        "id": "B9C6gyLV_g2u"
      },
      "execution_count": 14,
      "outputs": []
    },
    {
      "cell_type": "code",
      "source": [
        "visualize_model(model_ft)\n",
        "#warnings are fine"
      ],
      "metadata": {
        "colab": {
          "base_uri": "https://localhost:8080/",
          "height": 388
        },
        "id": "NfAVFdm9_a0R",
        "outputId": "00622079-684e-407b-ef15-8ae85603ac29"
      },
      "execution_count": 15,
      "outputs": [
        {
          "output_type": "stream",
          "name": "stderr",
          "text": [
            "WARNING:matplotlib.image:Clipping input data to the valid range for imshow with RGB data ([0..1] for floats or [0..255] for integers).\n",
            "WARNING:matplotlib.image:Clipping input data to the valid range for imshow with RGB data ([0..1] for floats or [0..255] for integers).\n",
            "WARNING:matplotlib.image:Clipping input data to the valid range for imshow with RGB data ([0..1] for floats or [0..255] for integers).\n",
            "WARNING:matplotlib.image:Clipping input data to the valid range for imshow with RGB data ([0..1] for floats or [0..255] for integers).\n",
            "WARNING:matplotlib.image:Clipping input data to the valid range for imshow with RGB data ([0..1] for floats or [0..255] for integers).\n",
            "WARNING:matplotlib.image:Clipping input data to the valid range for imshow with RGB data ([0..1] for floats or [0..255] for integers).\n"
          ]
        },
        {
          "output_type": "display_data",
          "data": {
            "text/plain": [
              "<Figure size 432x288 with 6 Axes>"
            ],
            "image/png": "[encoded data removed]"
          },
          "metadata": {
            "needs_background": "light"
          }
        }
      ]
    },
    {
      "cell_type": "code",
      "source": [
        "from pathlib import Path\n",
        "from PIL import Image\n",
        "\n",
        "test_data_path = '/content/drive/MyDrive/Clubs/CAIS++/ASL/data/asl_alphabet_test/asl_alphabet_test/'\n",
        "\n",
        "#class for evaluating the test dataset and partitioning their labels\n",
        "class ASLTestDataset(torch.utils.data.Dataset):\n",
        "    def __init__(self, root_path, transforms=None):\n",
        "        super().__init__()\n",
        "        \n",
        "        self.transforms = transforms\n",
        "        self.imgs = sorted(list(Path(root_path).glob('*.jpg')))\n",
        "        \n",
        "    def __len__(self):\n",
        "        return len(self.imgs)\n",
        "    \n",
        "    def __getitem__(self, idx):\n",
        "        img_path = self.imgs[idx]\n",
        "        img = Image.open(img_path).convert('RGB')\n",
        "        \n",
        "        label = img_path.parts[-1].split('_')[0]\n",
        "        if self.transforms:\n",
        "            img = self.transforms(img)\n",
        "        \n",
        "        return img, label"
      ],
      "metadata": {
        "id": "DohgOek0BGNf"
      },
      "execution_count": 16,
      "outputs": []
    },
    {
      "cell_type": "code",
      "source": [
        "#run the model on the testing data\n",
        "test_dataset = ASLTestDataset(test_data_path, transforms=data_transforms['val'])\n",
        "\n",
        "total, true = 0,0\n",
        "for img, label in test_dataset:\n",
        "    img = torch.Tensor(img)\n",
        "    img = img.to(device)\n",
        "    resnet.eval()\n",
        "    prediction = resnet(img[None])\n",
        "\n",
        "    total+=1\n",
        "    if(label==class_names[torch.max(prediction, dim=1)[1]]):\n",
        "      true+=1\n",
        "\n",
        "print(f'Test accuracy: {true/total}')\n"
      ],
      "metadata": {
        "colab": {
          "base_uri": "https://localhost:8080/",
          "height": 0
        },
        "id": "6sIWajOVezal",
        "outputId": "9c219df8-9475-4350-8c81-68ee54e3daf9"
      },
      "execution_count": 17,
      "outputs": [
        {
          "output_type": "stream",
          "name": "stdout",
          "text": [
            "Test accuracy: 0.979793393120672\n"
          ]
        }
      ]
    }
  ]
}